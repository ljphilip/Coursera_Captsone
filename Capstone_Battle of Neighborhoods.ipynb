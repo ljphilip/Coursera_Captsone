{
 "cells": [
  {
   "cell_type": "markdown",
   "metadata": {},
   "source": [
    "# Battle of the Neighborhoods [Capstone Projects-Weeks 4 and 5]"
   ]
  },
  {
   "cell_type": "markdown",
   "metadata": {},
   "source": [
    "## Analysing Neighborhoods in Bangalore, India"
   ]
  },
  {
   "cell_type": "markdown",
   "metadata": {},
   "source": [
    "### Introduction"
   ]
  },
  {
   "cell_type": "markdown",
   "metadata": {},
   "source": [
    "With a population of more than 10 million, the city of Bangalore in India is one of the most populous cities in India with a significant migrant population. With the blossoming number of apartments across the city, the choice of apartment to rent is to be determined not just by the proximity to the workplace but the quality of the neighbourhood. This project will cluster together similar neighborhoods based on the popular venue categories in each neighbourhood and map the various apartments in these neighborhoods.\n",
    "\n",
    "This data will help people who are looking to move into the city or to see if there are similar neighborhoods to their current neighborhoods which they can consider relocating."
   ]
  },
  {
   "cell_type": "markdown",
   "metadata": {},
   "source": [
    "### Data"
   ]
  },
  {
   "cell_type": "markdown",
   "metadata": {},
   "source": [
    "The data used for this project will be obtained from the following sources:\n",
    "\n",
    "a) For the list of neighborhood in Bangalore, dataset available in Kaggle will be used (https://www.kaggle.com/rmenon1998/bangalore-neighborhoods).\n",
    "\n",
    "b) For the list of apartments in Bangalore, dataset available in Kaggle will be used:\n",
    "(https://www.kaggle.com/sangarshanan/bangalore-apartments-dataset)\n",
    "\n",
    "These datasets will also contain the relevant latitude and longitude details.\n",
    "\n",
    "Foursquare API will be used to collate neigborhood venue information."
   ]
  },
  {
   "cell_type": "code",
   "execution_count": null,
   "metadata": {},
   "outputs": [],
   "source": []
  }
 ],
 "metadata": {
  "kernelspec": {
   "display_name": "Python 3",
   "language": "python",
   "name": "python3"
  },
  "language_info": {
   "codemirror_mode": {
    "name": "ipython",
    "version": 3
   },
   "file_extension": ".py",
   "mimetype": "text/x-python",
   "name": "python",
   "nbconvert_exporter": "python",
   "pygments_lexer": "ipython3",
   "version": "3.8.3"
  }
 },
 "nbformat": 4,
 "nbformat_minor": 4
}
